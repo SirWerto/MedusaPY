{
 "cells": [
  {
   "cell_type": "code",
   "execution_count": 1,
   "id": "c80b18b5-7175-4e1a-80e9-1c5f545ceb09",
   "metadata": {},
   "outputs": [],
   "source": [
    "import sys\n",
    "sys.path.append('..')"
   ]
  },
  {
   "cell_type": "code",
   "execution_count": 2,
   "id": "c2da1908-28c3-45d5-9d46-7973353caa55",
   "metadata": {},
   "outputs": [],
   "source": [
    "from medusapy import medusa"
   ]
  },
  {
   "cell_type": "code",
   "execution_count": 3,
   "id": "b87eb009-2103-47b2-9ff6-d937092bf67b",
   "metadata": {},
   "outputs": [],
   "source": [
    "import json\n",
    "path2res = '../resources'\n",
    "with open(path2res + '/sample_1.json') as f:\n",
    "    sample_1 = json.load(f)"
   ]
  },
  {
   "cell_type": "code",
   "execution_count": 4,
   "id": "86bffa48-d0e2-4874-9864-09bd944fc59e",
   "metadata": {},
   "outputs": [],
   "source": [
    "path2models = '../models'\n",
    "path_to_model_1 = path2models + '/medusa_model_1.pkl'\n",
    "path_to_model_n = path2models + '/medusa_model_n.pkl'"
   ]
  },
  {
   "cell_type": "code",
   "execution_count": 5,
   "id": "da5e2ce7-84ed-49e7-8a8e-9b8dc890ea70",
   "metadata": {},
   "outputs": [
    {
     "data": {
      "text/plain": [
       "{'fe_struct': {'center_mass_x': 89.0,\n",
       "  'center_mass_y': 76.0,\n",
       "  'date': '2022-09-26',\n",
       "  'distance_to_origin': 117.03,\n",
       "  'inactive_in_current': 'undefined',\n",
       "  'n_villages': 2,\n",
       "  'player_id': 'https://ts1.x1.europe.travian.com--P--3241',\n",
       "  'total_population': 482,\n",
       "  'tribes_summary': {'teutons': 2}},\n",
       " 'fe_type': 'ndays_1'}"
      ]
     },
     "execution_count": 5,
     "metadata": {},
     "output_type": "execute_result"
    }
   ],
   "source": [
    "sample_1[0]"
   ]
  },
  {
   "cell_type": "code",
   "execution_count": 6,
   "id": "942be5f5-0dbf-4db3-b587-9ca5e49aa451",
   "metadata": {},
   "outputs": [
    {
     "data": {
      "text/plain": [
       "{'do': 117.03,\n",
       " 'weekend': False,\n",
       " 'weekday': 0,\n",
       " 'n_villages': 2,\n",
       " 'total_population': 482,\n",
       " 'player_id': 'https://ts1.x1.europe.travian.com--P--3241'}"
      ]
     },
     "execution_count": 6,
     "metadata": {},
     "output_type": "execute_result"
    }
   ],
   "source": [
    "from medusapy.medusa_model_1 import prepare_row\n",
    "prepare_row(sample_1[0]['fe_struct'])"
   ]
  },
  {
   "cell_type": "code",
   "execution_count": 7,
   "id": "e299321c-9442-43b5-995e-da869b816072",
   "metadata": {},
   "outputs": [],
   "source": [
    "models = medusa.load(path_to_model_1, path_to_model_n)"
   ]
  },
  {
   "cell_type": "code",
   "execution_count": 8,
   "id": "fe4bd4de-0647-47ca-8f80-bc1ffa6f66ae",
   "metadata": {},
   "outputs": [],
   "source": [
    "results = medusa.predict(models, sample_1)"
   ]
  },
  {
   "cell_type": "code",
   "execution_count": 9,
   "id": "e933af29-2cf7-4036-91fa-527ad8a97d39",
   "metadata": {},
   "outputs": [
    {
     "name": "stdout",
     "output_type": "stream",
     "text": [
      "869 ms ± 40.3 ms per loop (mean ± std. dev. of 7 runs, 1 loop each)\n"
     ]
    }
   ],
   "source": [
    "%%timeit\n",
    "medusa.predict(models, sample_1)"
   ]
  },
  {
   "cell_type": "code",
   "execution_count": 10,
   "id": "8e4015b3-acaf-4171-bb8f-ab91c9a49d4a",
   "metadata": {},
   "outputs": [
    {
     "data": {
      "text/plain": [
       "[('model_1',\n",
       "  'https://ts1.x1.europe.travian.com--P--3241',\n",
       "  'Active',\n",
       "  0.24,\n",
       "  0.76),\n",
       " ('model_1', 'https://ts1.x1.europe.travian.com--P--2618', 'Active', 0.0, 1.0),\n",
       " ('model_1',\n",
       "  'https://ts1.x1.europe.travian.com--P--3945',\n",
       "  'Active',\n",
       "  0.09733333333333333,\n",
       "  0.9026666666666666),\n",
       " ('model_1',\n",
       "  'https://ts1.x1.europe.travian.com--P--6908',\n",
       "  'Active',\n",
       "  0.25466666666666665,\n",
       "  0.7453333333333333),\n",
       " ('model_1',\n",
       "  'https://ts1.x1.europe.travian.com--P--1651',\n",
       "  'Active',\n",
       "  0.058,\n",
       "  0.942),\n",
       " ('model_1',\n",
       "  'https://ts1.x1.europe.travian.com--P--8860',\n",
       "  'Active',\n",
       "  0.018,\n",
       "  0.982),\n",
       " ('model_1',\n",
       "  'https://ts1.x1.europe.travian.com--P--7955',\n",
       "  'Active',\n",
       "  0.012,\n",
       "  0.988),\n",
       " ('model_1',\n",
       "  'https://ts1.x1.europe.travian.com--P--8130',\n",
       "  'Active',\n",
       "  0.11933333333333333,\n",
       "  0.8806666666666667),\n",
       " ('model_1',\n",
       "  'https://ts1.x1.europe.travian.com--P--3156',\n",
       "  'Active',\n",
       "  0.0026666666666666666,\n",
       "  0.9973333333333333),\n",
       " ('model_1',\n",
       "  'https://ts1.x1.europe.travian.com--P--251',\n",
       "  'Active',\n",
       "  0.15733333333333333,\n",
       "  0.8426666666666667)]"
      ]
     },
     "execution_count": 10,
     "metadata": {},
     "output_type": "execute_result"
    }
   ],
   "source": [
    "results[:10]"
   ]
  },
  {
   "cell_type": "code",
   "execution_count": null,
   "id": "02fb7b93-fbba-4925-be39-7f5f71ef57dd",
   "metadata": {},
   "outputs": [],
   "source": []
  }
 ],
 "metadata": {
  "kernelspec": {
   "display_name": "Python 3 (ipykernel)",
   "language": "python",
   "name": "python3"
  },
  "language_info": {
   "codemirror_mode": {
    "name": "ipython",
    "version": 3
   },
   "file_extension": ".py",
   "mimetype": "text/x-python",
   "name": "python",
   "nbconvert_exporter": "python",
   "pygments_lexer": "ipython3",
   "version": "3.7.7"
  }
 },
 "nbformat": 4,
 "nbformat_minor": 5
}
